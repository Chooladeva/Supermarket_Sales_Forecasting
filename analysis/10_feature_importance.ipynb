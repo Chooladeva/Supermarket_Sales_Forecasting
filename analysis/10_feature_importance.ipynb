{
 "cells": [
  {
   "cell_type": "markdown",
   "id": "5bf7ce9f-7d4e-4587-b746-6d380aa3069b",
   "metadata": {},
   "source": [
    "The selected_features function is used to calculate the feature importance from a trained GradientBoostingRegressor model and filter out the features that have zero importance.\n",
    "\n",
    "It takes two arguments: best_model_grid, the trained model, and feature_names, a list of feature names corresponding to the model's input features. The function retrieves the feature importance values using the feature_importances_ attribute of the model and pairs them with the respective feature names. Then, it filters out features with zero importance, returning a list of selected feature names (selected_features) and their corresponding importance values (selected_importances). This helps in identifying the most important features for the model's predictions, enabling a more efficient and focused analysis."
   ]
  },
  {
   "cell_type": "code",
   "execution_count": 1,
   "id": "c848a4ca",
   "metadata": {},
   "outputs": [],
   "source": [
    "%run ./run_script.ipynb\n",
    "\n",
    "conf = get_conf()\n",
    "\n",
    "trans = get_datasources(conf)[\"trans_info\"]\n",
    "item = get_datasources(conf)[\"item_info\"]\n",
    "stores = get_datasources(conf)[\"outlets_info\"]\n",
    "no_categories = conf['params'][\"no_categories\"]\n",
    "cutoff = conf['train_test_split'][\"cutoff\"]\n",
    "\n",
    "data = create_pipeline(conf, trans, item, stores, no_categories)\n",
    "X_train, X_test, y_train, y_test = create_train_test_split(data, cutoff)\n",
    "\n",
    "# Load the saved model\n",
    "best_model_grid = joblib.load('best_model_grid.pkl')\n",
    "# Load the saved predictions\n",
    "y_pred = joblib.load('y_pred.pkl')"
   ]
  },
  {
   "cell_type": "code",
   "execution_count": 2,
   "id": "a9820b95",
   "metadata": {},
   "outputs": [],
   "source": [
    "def selected_features(best_model_grid, feature_names):\n",
    "    \n",
    "    \"\"\"\n",
    "    Calculating the feature importance and filtering non-importance features\n",
    "      \n",
    "      Args:\n",
    "          best_model_grid: GradientBoostingRegressor\n",
    "              The trained GradientBoostingRegressor model.\n",
    "          feature_names: list\n",
    "              A list of feature names corresponding to the model's input features.\n",
    "              \n",
    "      Returns:\n",
    "          selected_features: list\n",
    "              A list of selected feature names with non-zero importance.\n",
    "          selected_importances: list\n",
    "              A list of corresponding importances for the selected features.  \n",
    "    \"\"\"\n",
    "    \n",
    "    # Calculating the feature importance\n",
    "    feature_importance = best_model_grid.feature_importances_\n",
    "    feature_importance_list = list(zip(feature_names, feature_importance))\n",
    "\n",
    "    # Filter the list to keep only features with non-zero importance\n",
    "    non_zero_importance_list = [(feature, importance) for feature, importance in feature_importance_list if importance > 0]\n",
    "    selected_features = [feature for feature, _ in non_zero_importance_list]\n",
    "    selected_importances = [importance for _, importance in non_zero_importance_list]\n",
    "\n",
    "    return selected_features, selected_importances"
   ]
  },
  {
   "cell_type": "code",
   "execution_count": 3,
   "id": "121cbcaf",
   "metadata": {},
   "outputs": [
    {
     "name": "stdout",
     "output_type": "stream",
     "text": [
      "Selected Features:\n",
      "week: 3.039727722293066e-06\n",
      "total_sales_qty: 0.4148315190989942\n",
      "fe_avg_4_week_sales: 0.00014374864754362605\n",
      "fe_4_weeks_std_dev_weekly: 0.00011033290487125094\n",
      "fe_4_weeks_weekly_min_sales: 0.00024416319589802164\n",
      "fe_4_weeks_weekly_max_sales: 3.6092634952222513e-05\n",
      "previous_week_sales: 0.001643628785686086\n",
      "prev_2_weeks_sales: 0.10046285617135953\n",
      "prev_3_weeks_sales: 0.02955680181413554\n",
      "prev_month_sales: 0.011445100558770268\n",
      "outlet_min_sales: 2.1533987211492467e-05\n",
      "outlet_max_sales: 6.064567375959897e-05\n",
      "fe_sales_change_vs_next_week: 0.07050701863007254\n",
      "fe_sales_change_vs_previous_week: 0.0015875116656360899\n",
      "fe_sales_to_max_sales_ratio: 0.3655548923438419\n",
      "fe_cumulative_sales: 0.0002818589741753419\n",
      "month: 0.00014687788045145142\n",
      "week_month: 4.3370444181462885e-05\n",
      "week_year: 3.7922222230864143e-05\n",
      "quarter_year: 2.3651260618248682e-06\n",
      "row: 1.3967071384277558e-18\n",
      "outlet_code_D: 3.207080872700897e-05\n",
      "item_department_Beverages: 1.900800190008742e-06\n",
      "item_department_Chilled: 2.369832539488504e-06\n",
      "item_department_Grocery: 0.0032423780709877666\n"
     ]
    }
   ],
   "source": [
    "selected_features, selected_importances = selected_features(best_model_grid, X_train.columns)\n",
    "\n",
    "print(\"Selected Features:\")\n",
    "for feature, importance in zip(selected_features, selected_importances):\n",
    "    print(f\"{feature}: {importance}\")"
   ]
  }
 ],
 "metadata": {
  "kernelspec": {
   "display_name": "Python 3 (ipykernel)",
   "language": "python",
   "name": "python3"
  },
  "language_info": {
   "codemirror_mode": {
    "name": "ipython",
    "version": 3
   },
   "file_extension": ".py",
   "mimetype": "text/x-python",
   "name": "python",
   "nbconvert_exporter": "python",
   "pygments_lexer": "ipython3",
   "version": "3.12.7"
  }
 },
 "nbformat": 4,
 "nbformat_minor": 5
}
