{
 "cells": [
  {
   "cell_type": "code",
   "execution_count": 1,
   "id": "99f103cc",
   "metadata": {},
   "outputs": [],
   "source": [
    "%run \"C:/Users/HP/Documents/NIBM/Year 3/Machine Learning/Case Study 1/My_project/src/model/run_script.ipynb\""
   ]
  }
 ],
 "metadata": {
  "kernelspec": {
   "display_name": "Python 3",
   "language": "python",
   "name": "python3"
  },
  "language_info": {
   "codemirror_mode": {
    "name": "ipython",
    "version": 3
   },
   "file_extension": ".py",
   "mimetype": "text/x-python",
   "name": "python",
   "nbconvert_exporter": "python",
   "pygments_lexer": "ipython3",
   "version": "3.8.3"
  }
 },
 "nbformat": 4,
 "nbformat_minor": 5
}
