{
 "cells": [
  {
   "cell_type": "code",
   "execution_count": 2,
   "id": "6235e5e8",
   "metadata": {},
   "outputs": [],
   "source": [
    "def create_train_test_split(data, cutoff):\n",
    "    \n",
    "    \"\"\"\n",
    "    Creating the Train and Test data split\n",
    "    \n",
    "    Args:\n",
    "        data: Pandas DataFrame\n",
    "            Created pipeline datset to be split into train and test sets.\n",
    "        cutoff:  The proportion of the data to be allocated to the training set\n",
    "    \n",
    "    Returns:\n",
    "        X_train: Pandas DataFrame\n",
    "            The features of the training set.\n",
    "        X_test: Pandas DataFrame\n",
    "            The features of the test set.\n",
    "        y_train: Pandas Series\n",
    "            The target variable of the training set.\n",
    "        y_test: Pandas Series\n",
    "            The target variable of the test set.\n",
    "    \"\"\"\n",
    "    \n",
    "    # Converting the 'week' column to an integer \n",
    "    data['week'] = data['week'].dt.strftime('%U').astype(int)\n",
    "    \n",
    "    # Defning the input variables and the target variable\n",
    "    X = data.drop(columns=['sales_next_week'])\n",
    "    y = data['sales_next_week']\n",
    "\n",
    "    # Splitting the data into train and test sets\n",
    "    X_train, X_test, y_train, y_test = train_test_split(X, y, test_size=(1 - cutoff), shuffle=False)\n",
    "\n",
    "    return X_train, X_test, y_train, y_test"
   ]
  }
 ],
 "metadata": {
  "kernelspec": {
   "display_name": "Python 3 (ipykernel)",
   "language": "python",
   "name": "python3"
  },
  "language_info": {
   "codemirror_mode": {
    "name": "ipython",
    "version": 3
   },
   "file_extension": ".py",
   "mimetype": "text/x-python",
   "name": "python",
   "nbconvert_exporter": "python",
   "pygments_lexer": "ipython3",
   "version": "3.12.7"
  }
 },
 "nbformat": 4,
 "nbformat_minor": 5
}
