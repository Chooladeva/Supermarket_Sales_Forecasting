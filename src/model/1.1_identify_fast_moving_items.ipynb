{
 "cells": [
  {
   "cell_type": "code",
   "execution_count": 2,
   "id": "28ffab0e",
   "metadata": {},
   "outputs": [],
   "source": [
    "def identify_fast_moving_category(trans, item, no_categories):\n",
    "    \n",
    "    \"\"\"\n",
    "    Identifying the top 5 fast moving item categories in each department and in each outlet.\n",
    "    \n",
    "    Args:\n",
    "        trans : Pandas DataFrame\n",
    "            transactions data\n",
    "        item : Pandas DataFrame \n",
    "            items information\n",
    "        no_categories : number of item categories to be selected\n",
    "        \n",
    "    Returns:\n",
    "        fast_moving_category : Pandas DataFrame\n",
    "            Contains the top 5 fast moving item categories in each department in each outlet\n",
    "    \"\"\"\n",
    "    \n",
    "    fast_moving_category = (\n",
    "        trans\n",
    "        .merge(item, on=\"item_code\", how=\"left\")\n",
    "        .groupby([\"outlet_code\", \"item_department\", \"item_category\"])\n",
    "        .agg(total_sales_qty=(\"total_sales\", \"sum\"))\n",
    "        .reset_index()\n",
    "    )\n",
    "    \n",
    "    fast_moving_category[\"row\"] = (\n",
    "        fast_moving_category\n",
    "        .groupby([\"outlet_code\", \"item_department\"])\n",
    "        [\"total_sales_qty\"]\n",
    "        .rank(method=\"first\", ascending=False)\n",
    "    )\n",
    "    \n",
    "    fast_moving_category = (\n",
    "        fast_moving_category\n",
    "        .sort_values(by=[\"outlet_code\", \"item_department\", \"total_sales_qty\"], ascending=[True, True, False])\n",
    "    )\n",
    "    fast_moving_category = fast_moving_category[fast_moving_category[\"row\"] <= no_categories]\n",
    "    \n",
    "    return fast_moving_category"
   ]
  }
 ],
 "metadata": {
  "kernelspec": {
   "display_name": "Python 3 (ipykernel)",
   "language": "python",
   "name": "python3"
  },
  "language_info": {
   "codemirror_mode": {
    "name": "ipython",
    "version": 3
   },
   "file_extension": ".py",
   "mimetype": "text/x-python",
   "name": "python",
   "nbconvert_exporter": "python",
   "pygments_lexer": "ipython3",
   "version": "3.12.7"
  }
 },
 "nbformat": 4,
 "nbformat_minor": 5
}
