{
 "cells": [
  {
   "cell_type": "code",
   "execution_count": 1,
   "id": "d77a13bf-0cfa-4f6d-882f-7b5757932576",
   "metadata": {},
   "outputs": [],
   "source": [
    "%run \"C:/Users/HP/Documents/NIBM/Year 3/Machine Learning/Case Study 1/My_project/src/utils/run_script.ipynb\"\n",
    "\n",
    "%run \"C:/Users/HP/Documents/NIBM/Year 3/Machine Learning/Case Study 1/My_project/src/model/1.0_preprocess_datasources.ipynb\"\n",
    "\n",
    "%run \"C:/Users/HP/Documents/NIBM/Year 3/Machine Learning/Case Study 1/My_project/src/model/1.1_identify_fast_moving_items.ipynb\"\n",
    "\n",
    "%run \"C:/Users/HP/Documents/NIBM/Year 3/Machine Learning/Case Study 1/My_project/src/model/1.2_get_weekly_sales.ipynb\"\n",
    "\n",
    "%run \"C:/Users/HP/Documents/NIBM/Year 3/Machine Learning/Case Study 1/My_project/src/model/1.3_create_primary_keys.ipynb\"\n",
    "\n",
    "%run \"C:/Users/HP/Documents/NIBM/Year 3/Machine Learning/Case Study 1/My_project/src/model/1.4_create_target_variable.ipynb\"\n",
    "\n",
    "%run \"C:/Users/HP/Documents/NIBM/Year 3/Machine Learning/Case Study 1/My_project/src/model/1.5_sales_related_features.ipynb\"\n",
    "\n",
    "%run \"C:/Users/HP/Documents/NIBM/Year 3/Machine Learning/Case Study 1/My_project/src/model/1.6_time_related_features.ipynb\"\n",
    "\n",
    "%run \"C:/Users/HP/Documents/NIBM/Year 3/Machine Learning/Case Study 1/My_project/src/model/1.7_store_related_features.ipynb\"\n",
    "\n",
    "%run \"C:/Users/HP/Documents/NIBM/Year 3/Machine Learning/Case Study 1/My_project/src/model/1.8_create_master_table.ipynb\"\n",
    "\n",
    "%run \"C:/Users/HP/Documents/NIBM/Year 3/Machine Learning/Case Study 1/My_project/src/model/1.9_encoding_variables.ipynb\"\n",
    "\n",
    "%run \"C:/Users/HP/Documents/NIBM/Year 3/Machine Learning/Case Study 1/My_project/src/model/2.0_pipeline_fitting.ipynb\"\n",
    "\n",
    "%run \"C:/Users/HP/Documents/NIBM/Year 3/Machine Learning/Case Study 1/My_project/src/model/2.1_train_test_split.ipynb\"\n",
    "\n",
    "%run \"C:/Users/HP/Documents/NIBM/Year 3/Machine Learning/Case Study 1/My_project/src/model/2.2_train_model.ipynb\"\n",
    "\n",
    "%run \"C:/Users/HP/Documents/NIBM/Year 3/Machine Learning/Case Study 1/My_project/src/model/2.3_feature_importance.ipynb\"\n",
    "\n",
    "%run \"C:/Users/HP/Documents/NIBM/Year 3/Machine Learning/Case Study 1/My_project/src/model/2.4_model_accuracy.ipynb\""
   ]
  }
 ],
 "metadata": {
  "kernelspec": {
   "display_name": "Python 3 (ipykernel)",
   "language": "python",
   "name": "python3"
  },
  "language_info": {
   "codemirror_mode": {
    "name": "ipython",
    "version": 3
   },
   "file_extension": ".py",
   "mimetype": "text/x-python",
   "name": "python",
   "nbconvert_exporter": "python",
   "pygments_lexer": "ipython3",
   "version": "3.12.7"
  }
 },
 "nbformat": 4,
 "nbformat_minor": 5
}
