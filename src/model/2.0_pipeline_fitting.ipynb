{
 "cells": [
  {
   "cell_type": "code",
   "execution_count": 2,
   "id": "29572c6b",
   "metadata": {},
   "outputs": [],
   "source": [
    "def create_pipeline(conf, trans, item, stores, no_categories):\n",
    "    \n",
    "    \"\"\"\n",
    "    Creating the Pipeline\n",
    "    \n",
    "    Args:\n",
    "        conf: Configuration dictionary.\n",
    "        trans: Pandas DataFrame\n",
    "            Transactions data\n",
    "        item: Pandas DataFrame\n",
    "            Items information\n",
    "        stores: Pandas DataFrame\n",
    "            Oringinal store information\n",
    "        no_categories: number of item categories to be selected\n",
    "            \n",
    "    Returns:\n",
    "        create_pipeline: Pandas DataFrame\n",
    "    \"\"\"\n",
    "    \n",
    "    trans = pre_process_transaction_info(trans)\n",
    "    item = pre_process_item_info(item)\n",
    "    store = pre_process_stores_info(stores)\n",
    "    fast_moving_category = identify_fast_moving_category(trans, item, no_categories)\n",
    "    trans_weekly= get_weekly_sales(item, trans)\n",
    "    primary_keys =  create_primary_keys(trans_weekly)\n",
    "    weekly_sales = identify_weekly_sales(trans_weekly, primary_keys)\n",
    "    target_variable = create_target_variable(weekly_sales)\n",
    "    sales_related_features = get_sales_related_features(target_variable)\n",
    "    time_related_features = get_time_related_features(target_variable)\n",
    "    store = get_store_related_features(store)\n",
    "    master_table=create_master_table(trans,item,no_categories,store)\n",
    "    data_encoded = one_hot_encode_columns(master_table)\n",
    "    \n",
    "    return data_encoded"
   ]
  }
 ],
 "metadata": {
  "kernelspec": {
   "display_name": "Python 3 (ipykernel)",
   "language": "python",
   "name": "python3"
  },
  "language_info": {
   "codemirror_mode": {
    "name": "ipython",
    "version": 3
   },
   "file_extension": ".py",
   "mimetype": "text/x-python",
   "name": "python",
   "nbconvert_exporter": "python",
   "pygments_lexer": "ipython3",
   "version": "3.12.7"
  }
 },
 "nbformat": 4,
 "nbformat_minor": 5
}
