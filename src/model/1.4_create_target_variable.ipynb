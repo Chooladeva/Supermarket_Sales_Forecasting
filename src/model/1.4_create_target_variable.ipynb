{
 "cells": [
  {
   "cell_type": "code",
   "execution_count": 1,
   "id": "9649e283",
   "metadata": {},
   "outputs": [],
   "source": [
    "def identify_weekly_sales(trans_weekly, primary_keys):\n",
    "    \n",
    "    \"\"\"\n",
    "    Identifying total weekly sales on primary key\n",
    "    \n",
    "    Args:\n",
    "        weekly_sales: Pandas DataFrame\n",
    "            Total weekly sales on primary key\n",
    "    \n",
    "    Returns:\n",
    "        target_variable: Pandas DataFrame\n",
    "            Target Variable\n",
    "    \"\"\"\n",
    "    \n",
    "    weekly_sales = pd.merge(primary_keys, trans_weekly, on=[\"outlet_code\", \"item_department\", \"week\"], how=\"left\")\n",
    "    weekly_sales = weekly_sales[[\"week\", \"outlet_code\", \"item_department\", \"total_sales_qty\"]]\n",
    "    weekly_sales[\"total_sales_qty\"].fillna(0, inplace=True)\n",
    "    weekly_sales.sort_values(\"week\", inplace=True)\n",
    "    \n",
    "    return weekly_sales\n",
    "\n",
    "#weekly_sales = identify_weekly_sales(trans_weekly, primary_keys)\n",
    "\n",
    "def create_target_variable(weekly_sales):\n",
    "    \"\"\"\n",
    "    Creating target variable \n",
    "    \n",
    "    Args:\n",
    "        weekly_sales: pyspark dataframe\n",
    "            Total weekly sales on primary key\n",
    "    \n",
    "    Returns:\n",
    "        target_variable: pyspark dataframe\n",
    "            Target Variable with \"sales_next_week\" column\n",
    "    \"\"\"\n",
    "    \n",
    "    target_variable = weekly_sales.copy()\n",
    "    target_variable['sales_next_week'] = target_variable.groupby(['outlet_code', 'item_department'])['total_sales_qty'].shift(-1)\n",
    "    target_variable = target_variable.groupby(['outlet_code', 'item_department']).apply(lambda x: x.sort_values('week'))\n",
    "    target_variable = target_variable.reset_index(drop=True)\n",
    "    \n",
    "    return target_variable\n"
   ]
  }
 ],
 "metadata": {
  "kernelspec": {
   "display_name": "Python 3 (ipykernel)",
   "language": "python",
   "name": "python3"
  },
  "language_info": {
   "codemirror_mode": {
    "name": "ipython",
    "version": 3
   },
   "file_extension": ".py",
   "mimetype": "text/x-python",
   "name": "python",
   "nbconvert_exporter": "python",
   "pygments_lexer": "ipython3",
   "version": "3.12.7"
  }
 },
 "nbformat": 4,
 "nbformat_minor": 5
}
