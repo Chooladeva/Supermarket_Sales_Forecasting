{
 "cells": [
  {
   "cell_type": "code",
   "execution_count": 2,
   "id": "ce839848",
   "metadata": {},
   "outputs": [],
   "source": [
    "def one_hot_encode_columns(master_table):\n",
    "    \"\"\"\n",
    "    One-Hot Encoding the categorical columns\n",
    "\n",
    "    Args: \n",
    "        master_table: Pandas DataFrame\n",
    "            Master Table\n",
    "    \n",
    "    Returns:\n",
    "        one_hot_encode_columns: Pandas DataFrame\n",
    "            Master table with encoded columns\n",
    "    \"\"\"\n",
    "    \n",
    "    # Create a copy of the master table to avoid modifying the original\n",
    "    data_encoded = master_table.copy()\n",
    "    \n",
    "    # One-Hot Encoding using sklearn's OneHotEncoder\n",
    "    onehot_encoder = OneHotEncoder(sparse_output=False)\n",
    "    \n",
    "    # Encode the specified categorical columns\n",
    "    encoded_cols = onehot_encoder.fit_transform(master_table[['outlet_code', 'item_department',\n",
    "                                                             'outlet_profile_category', 'outlet_area',\n",
    "                                                             'outlet_parking_lots', 'outlet_cluster_category']])\n",
    "    \n",
    "    # Get the column names for the encoded columns\n",
    "    encoded_column_names = onehot_encoder.get_feature_names_out(['outlet_code', 'item_department',\n",
    "                                                                'outlet_profile_category', 'outlet_area',\n",
    "                                                                'outlet_parking_lots', 'outlet_cluster_category'])\n",
    "    \n",
    "    # Create a DataFrame with the encoded columns\n",
    "    encoded_df = pd.DataFrame(encoded_cols, columns=encoded_column_names)\n",
    "    \n",
    "    # Drop the original categorical columns from the data\n",
    "    data_encoded = data_encoded.drop(['outlet_code', 'item_department', 'outlet_profile_category',\n",
    "                                      'outlet_area', 'outlet_parking_lots', 'outlet_cluster_category'], axis=1)\n",
    "    \n",
    "    # Concatenate the encoded columns with the remaining data\n",
    "    data_encoded = pd.concat([data_encoded, encoded_df], axis=1)\n",
    "    \n",
    "    # One-Hot Encode the 'item_category' column using pd.get_dummies\n",
    "    data_encoded = pd.get_dummies(data_encoded, columns=['item_category'], prefix='item_category')\n",
    "    \n",
    "    return data_encoded"
   ]
  }
 ],
 "metadata": {
  "kernelspec": {
   "display_name": "Python 3 (ipykernel)",
   "language": "python",
   "name": "python3"
  },
  "language_info": {
   "codemirror_mode": {
    "name": "ipython",
    "version": 3
   },
   "file_extension": ".py",
   "mimetype": "text/x-python",
   "name": "python",
   "nbconvert_exporter": "python",
   "pygments_lexer": "ipython3",
   "version": "3.12.7"
  }
 },
 "nbformat": 4,
 "nbformat_minor": 5
}
