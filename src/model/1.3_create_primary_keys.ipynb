{
 "cells": [
  {
   "cell_type": "code",
   "execution_count": 2,
   "id": "cbb334fa",
   "metadata": {},
   "outputs": [],
   "source": [
    "def create_primary_keys(trans_weekly):\n",
    "    \n",
    "    \"\"\"\n",
    "    Generating Primary Keys\n",
    "    \n",
    "    Args: \n",
    "        trans_weekly: Pandas DataFrame\n",
    "            weekly transactions\n",
    "    \n",
    "    Returns:\n",
    "        primary_keys: Pandas DataFrame\n",
    "            Primary Keys\n",
    "    \"\"\"\n",
    "  \n",
    "    distinct_stores = trans_weekly[\"outlet_code\"].unique()\n",
    "    \n",
    "    #display(distinct_stores)\n",
    "\n",
    "    distinct_department= trans_weekly[\"item_department\"].unique()\n",
    "    \n",
    "    #display(distinct_department)\n",
    "\n",
    "    distinct_weeks = trans_weekly[\"week\"].sort_values().unique()\n",
    "    \n",
    "    #display(distinct_weeks)\n",
    "    \n",
    "    trans_weekly_final = trans_weekly.groupby(['outlet_code', 'item_department']).agg(\n",
    "    max_week=('week', 'max'),\n",
    "    min_week=('week', 'min')).reset_index()\n",
    "    \n",
    "    #display(trans_weekly_final)\n",
    "    \n",
    "    all_weeks = expand_by_week(trans_weekly_final, \"min_week\", \"max_week\", \"DATE\")\n",
    "    all_weeks.sort_values(by=['outlet_code', 'item_department', 'DATE'], inplace=True)\n",
    "    all_weeks['week'] = all_weeks['DATE'].apply(lambda x: previous_day(x, \"monday\"))\n",
    "    distinct_all_weeks = all_weeks[\"week\"].sort_values().unique()\n",
    "    \n",
    "    #display(all_weeks)\n",
    "    \n",
    "    primary_keys = pd.DataFrame(\n",
    "        [(outlet, department, week) for outlet in distinct_stores\n",
    "         for department in distinct_department\n",
    "         for week in distinct_all_weeks],\n",
    "        columns=[\"outlet_code\", \"item_department\", \"week\"]).sort_values(\"week\") \n",
    "    \n",
    "    #display(primary_keys)\n",
    "    \n",
    "    return primary_keys  "
   ]
  }
 ],
 "metadata": {
  "kernelspec": {
   "display_name": "Python 3 (ipykernel)",
   "language": "python",
   "name": "python3"
  },
  "language_info": {
   "codemirror_mode": {
    "name": "ipython",
    "version": 3
   },
   "file_extension": ".py",
   "mimetype": "text/x-python",
   "name": "python",
   "nbconvert_exporter": "python",
   "pygments_lexer": "ipython3",
   "version": "3.12.7"
  }
 },
 "nbformat": 4,
 "nbformat_minor": 5
}
