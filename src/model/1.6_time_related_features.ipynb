{
 "cells": [
  {
   "cell_type": "code",
   "execution_count": 4,
   "id": "10eb531e",
   "metadata": {},
   "outputs": [],
   "source": [
    "def get_time_related_features(target_variable):\n",
    "    \n",
    "    \"\"\"\n",
    "    Generating time related features \n",
    "    \n",
    "    Args:\n",
    "        target_variable: Pandas DataFrame\n",
    "            Target Variable\n",
    "    \n",
    "    Returns:\n",
    "        time_related_features: Pandas DataFrame\n",
    "            Time related features\n",
    "    \"\"\"\n",
    "    \n",
    "    time_related_features = target_variable.copy()\n",
    "    time_related_features['month'] = time_related_features['week'].dt.month.astype(int)\n",
    "    time_related_features['week_month'] = time_related_features['week'].apply(lambda d: (d.day-1) // 7 + 1).astype(int)\n",
    "    time_related_features['week_year'] = time_related_features['week'].dt.isocalendar().week.astype(int)\n",
    "    time_related_features['quarter_year'] = time_related_features['week'].dt.quarter.astype(int)\n",
    "    time_related_features = time_related_features[['week', 'outlet_code', 'item_department', 'month',\n",
    "                                                   'week_month', 'week_year', 'quarter_year']]\n",
    "    \n",
    "    return time_related_features\n"
   ]
  }
 ],
 "metadata": {
  "kernelspec": {
   "display_name": "Python 3 (ipykernel)",
   "language": "python",
   "name": "python3"
  },
  "language_info": {
   "codemirror_mode": {
    "name": "ipython",
    "version": 3
   },
   "file_extension": ".py",
   "mimetype": "text/x-python",
   "name": "python",
   "nbconvert_exporter": "python",
   "pygments_lexer": "ipython3",
   "version": "3.12.7"
  }
 },
 "nbformat": 4,
 "nbformat_minor": 5
}
