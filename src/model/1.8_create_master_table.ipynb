{
 "cells": [
  {
   "cell_type": "code",
   "execution_count": 5,
   "id": "6ff279d5-e940-4a8c-bab7-f3729c7f1d54",
   "metadata": {},
   "outputs": [],
   "source": [
    "def create_master_table(trans, item, no_categories, store):\n",
    "    \"\"\"\n",
    "    Creating the master table\n",
    "    \n",
    "    Args:\n",
    "        trans: Pandas DataFrame\n",
    "            Transactions data\n",
    "        item: Pandas DataFrame\n",
    "            Items information\n",
    "        no_categories: Number of item categories to be selected    \n",
    "        store: Pandas DataFrame\n",
    "            Store information\n",
    "    \n",
    "    Returns:\n",
    "        Master Table: Pandas DataFrame\n",
    "    \"\"\"\n",
    "    \n",
    "    # Identify fast-moving categories\n",
    "    fast_moving_category = identify_fast_moving_category(trans, item, no_categories)\n",
    "    \n",
    "    # Process the data for master table creation\n",
    "    trans_weekly = get_weekly_sales(item, trans)\n",
    "    primary_keys = create_primary_keys(trans_weekly)\n",
    "    weekly_sales = identify_weekly_sales(trans_weekly, primary_keys)\n",
    "    target_variable = create_target_variable(weekly_sales)\n",
    "    sales_related_features = get_sales_related_features(target_variable)\n",
    "    time_related_features = get_time_related_features(target_variable)\n",
    "\n",
    "    # Merge data into the master table\n",
    "    master_table = (\n",
    "        primary_keys.merge(target_variable, on=[\"week\", \"outlet_code\", \"item_department\"], how=\"left\")\n",
    "        .merge(sales_related_features, on=[\"week\", \"outlet_code\", \"item_department\"], how=\"left\")\n",
    "        .merge(time_related_features, on=[\"week\", \"outlet_code\", \"item_department\"], how=\"left\")\n",
    "        .merge(store, on=[\"outlet_code\"], how=\"left\")\n",
    "        .merge(fast_moving_category, on=[\"outlet_code\", \"item_department\"], how=\"left\")  # Add fast_moving_category\n",
    "        .fillna(0)\n",
    "    )\n",
    "    # If you want to prioritize specific versions, drop columns explicitly:\n",
    "    master_table = master_table.drop(columns=['total_sales_qty_y'], errors='ignore')\n",
    "\n",
    "    # Rename the retained column for clarity (optional)\n",
    "    master_table.rename(columns={'total_sales_qty_x': 'total_sales_qty'}, inplace=True)\n",
    "    \n",
    "    return master_table"
   ]
  }
 ],
 "metadata": {
  "kernelspec": {
   "display_name": "Python 3 (ipykernel)",
   "language": "python",
   "name": "python3"
  },
  "language_info": {
   "codemirror_mode": {
    "name": "ipython",
    "version": 3
   },
   "file_extension": ".py",
   "mimetype": "text/x-python",
   "name": "python",
   "nbconvert_exporter": "python",
   "pygments_lexer": "ipython3",
   "version": "3.12.7"
  }
 },
 "nbformat": 4,
 "nbformat_minor": 5
}
