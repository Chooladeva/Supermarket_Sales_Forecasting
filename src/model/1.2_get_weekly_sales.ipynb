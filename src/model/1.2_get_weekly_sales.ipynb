{
 "cells": [
  {
   "cell_type": "code",
   "execution_count": 2,
   "id": "3f731ccc",
   "metadata": {},
   "outputs": [],
   "source": [
    "def get_weekly_sales(item, trans):\n",
    "    \n",
    "    \"\"\"\n",
    "    Identifying weekly sales based on week, department and outlet\n",
    "    \n",
    "    Args:\n",
    "        item: Pandas DataFrame\n",
    "            item data\n",
    "        trans: Pandas DataFrame\n",
    "            transcation data\n",
    "    \n",
    "    Returns:\n",
    "        weekly_trans: Pandas DataFrame\n",
    "            contains weekly sales on week, department and outlet granularity\n",
    "    \"\"\"\n",
    "    \n",
    "    trans_weekly = trans.merge(item, on='item_code', how='left')[[\"week\", \"item_code\", \"outlet_code\",\n",
    "                                                              \"item_category\", \"item_department\",\n",
    "                                                              \"total_sales\"]].sort_values(by=\"week\")\n",
    "    \n",
    "    weekly_trans = trans_weekly.groupby([\"outlet_code\",\"item_department\", \"week\"]).agg(\n",
    "        total_sales_qty=pd.NamedAgg(column=\"total_sales\", aggfunc=\"sum\")).reset_index().dropna()\n",
    "\n",
    "    return weekly_trans"
   ]
  }
 ],
 "metadata": {
  "kernelspec": {
   "display_name": "Python 3 (ipykernel)",
   "language": "python",
   "name": "python3"
  },
  "language_info": {
   "codemirror_mode": {
    "name": "ipython",
    "version": 3
   },
   "file_extension": ".py",
   "mimetype": "text/x-python",
   "name": "python",
   "nbconvert_exporter": "python",
   "pygments_lexer": "ipython3",
   "version": "3.12.7"
  }
 },
 "nbformat": 4,
 "nbformat_minor": 5
}
