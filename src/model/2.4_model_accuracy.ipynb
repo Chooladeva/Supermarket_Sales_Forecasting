{
 "cells": [
  {
   "cell_type": "code",
   "execution_count": 2,
   "id": "a912377b",
   "metadata": {},
   "outputs": [],
   "source": [
    "def calculate_model_accuracy(y_test, y_pred, selected_features):\n",
    "    \n",
    "    \"\"\"\n",
    "    Calculating the accuracy measures based on the selected features\n",
    "      \n",
    "    Args:\n",
    "        y_test: Pandas Series\n",
    "            The target variable of the test set.\n",
    "        y_pred: Numpy Array\n",
    "            Contains the predicted values from the best model\n",
    "        selected_features: list\n",
    "            A list of selected feature names with non-zero importance.\n",
    "            \n",
    "    Returns:\n",
    "        rmsle: float\n",
    "            Root Mean Squared Logarithmic Error (RMSLE).\n",
    "        mae: float\n",
    "            Mean Absolute Error (MAE).\n",
    "        r2: float\n",
    "            R-squared (R2) score.\n",
    "        adj_r2: float\n",
    "            Adjusted R-squared score.\n",
    "        total_mape: float\n",
    "            Total Mean Absolute Percentage Error (MAPE) over all samples.\n",
    "        avg_mape: float\n",
    "            Average Mean Absolute Percentage Error (MAPE) over non-zero samples. \n",
    "    \"\"\"\n",
    "    \n",
    "    # Calculating the Average MAPE\n",
    "    non_zero_mask = y_test != 0\n",
    "    y_test_non_zero = y_test[non_zero_mask]\n",
    "    y_pred_non_zero = y_pred[non_zero_mask]\n",
    "    avg_mape = np.mean(np.abs((y_test_non_zero - y_pred_non_zero) / y_test_non_zero)) * 100\n",
    "    \n",
    "    # Calculating the Root Mean Squared Squared Logarithmic Error (RMSLE)\n",
    "    rmsle = np.sqrt(mean_squared_log_error(y_test, y_pred))\n",
    "    \n",
    "    # Calculating the Mean Absolute Error (MAE)\n",
    "    mae = mean_absolute_error(y_test, y_pred)\n",
    "    \n",
    "    # Calculating the R-squared (R2) Score\n",
    "    r2 = r2_score(y_test, y_pred)\n",
    "    \n",
    "    # Calculating the Adjusted R-squared Score\n",
    "    n = len(y_test)\n",
    "    adj_r2 = 1 - ((1 - r2) * (n - 1)) / (n - len(selected_features) - 1)\n",
    "\n",
    "    # Calculating the Total MAPE\n",
    "    absolute_errors = np.abs(y_pred - y_test)\n",
    "    sum_absolute_errors = np.sum(absolute_errors)\n",
    "    sum_actual_sales = np.sum(y_test)\n",
    "    total_mape = (sum_absolute_errors / sum_actual_sales) * 100\n",
    "\n",
    "    return rmsle, mae, r2, adj_r2, total_mape, avg_mape"
   ]
  }
 ],
 "metadata": {
  "kernelspec": {
   "display_name": "Python 3 (ipykernel)",
   "language": "python",
   "name": "python3"
  },
  "language_info": {
   "codemirror_mode": {
    "name": "ipython",
    "version": 3
   },
   "file_extension": ".py",
   "mimetype": "text/x-python",
   "name": "python",
   "nbconvert_exporter": "python",
   "pygments_lexer": "ipython3",
   "version": "3.12.7"
  }
 },
 "nbformat": 4,
 "nbformat_minor": 5
}
