{
 "cells": [
  {
   "cell_type": "code",
   "execution_count": 2,
   "id": "fcb91780",
   "metadata": {},
   "outputs": [],
   "source": [
    "def selected_features(best_model_grid, feature_names):\n",
    "    \n",
    "    \"\"\"\n",
    "    Calculating the feature importance and filtering non-importance features\n",
    "      \n",
    "      Args:\n",
    "          best_model_grid: GradientBoostingRegressor\n",
    "              The trained GradientBoostingRegressor model.\n",
    "          feature_names: list\n",
    "              A list of feature names corresponding to the model's input features.\n",
    "              \n",
    "      Returns:\n",
    "          selected_features: list\n",
    "              A list of selected feature names with non-zero importance.\n",
    "          selected_importances: list\n",
    "              A list of corresponding importances for the selected features.  \n",
    "    \"\"\"\n",
    "    \n",
    "    # Calculating the feature importance\n",
    "    feature_importance = best_model_grid.feature_importances_\n",
    "    feature_importance_list = list(zip(feature_names, feature_importance))\n",
    "\n",
    "    # Filter the list to keep only features with non-zero importance\n",
    "    non_zero_importance_list = [(feature, importance) for feature, importance in feature_importance_list if importance > 0]\n",
    "    selected_features = [feature for feature, _ in non_zero_importance_list]\n",
    "    selected_importances = [importance for _, importance in non_zero_importance_list]\n",
    "\n",
    "    return selected_features, selected_importances"
   ]
  }
 ],
 "metadata": {
  "kernelspec": {
   "display_name": "Python 3 (ipykernel)",
   "language": "python",
   "name": "python3"
  },
  "language_info": {
   "codemirror_mode": {
    "name": "ipython",
    "version": 3
   },
   "file_extension": ".py",
   "mimetype": "text/x-python",
   "name": "python",
   "nbconvert_exporter": "python",
   "pygments_lexer": "ipython3",
   "version": "3.12.7"
  }
 },
 "nbformat": 4,
 "nbformat_minor": 5
}
