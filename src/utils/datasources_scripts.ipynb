{
 "cells": [
  {
   "cell_type": "code",
   "execution_count": 1,
   "id": "ae82a055",
   "metadata": {},
   "outputs": [],
   "source": [
    "def get_datasources(conf):\n",
    "    \n",
    "    \"\"\"\n",
    "    Get the required datasources\n",
    "    \"\"\"\n",
    "  \n",
    "    datasources = {\n",
    "        \"item_info\": get_items_info(conf),\n",
    "        \"outlets_info\": get_outlets_info(conf),\n",
    "        \"trans_info\": get_trans_info(conf)\n",
    "    }\n",
    "    \n",
    "    return datasources"
   ]
  }
 ],
 "metadata": {
  "kernelspec": {
   "display_name": "Python 3",
   "language": "python",
   "name": "python3"
  },
  "language_info": {
   "codemirror_mode": {
    "name": "ipython",
    "version": 3
   },
   "file_extension": ".py",
   "mimetype": "text/x-python",
   "name": "python",
   "nbconvert_exporter": "python",
   "pygments_lexer": "ipython3",
   "version": "3.8.3"
  }
 },
 "nbformat": 4,
 "nbformat_minor": 5
}
