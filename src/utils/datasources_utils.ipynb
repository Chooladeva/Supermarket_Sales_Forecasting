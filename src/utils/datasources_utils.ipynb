{
 "cells": [
  {
   "cell_type": "code",
   "execution_count": 1,
   "id": "3e4bb373",
   "metadata": {},
   "outputs": [],
   "source": [
    "def get_outlets_info(conf):\n",
    "    \n",
    "    \"\"\"\n",
    "    Returns store information\n",
    "    \n",
    "    Parameters:\n",
    "          conf (dict): Contains configurations\n",
    "    \n",
    "    Returns:\n",
    "          pandas DataFrame: outlets_info\n",
    "    \"\"\"\n",
    "    \n",
    "    outlets_info = read_csv(conf[\"paths\"][\"outlet_info_path\"])\n",
    "    outlets_info = outlets_info[conf[\"required_columns\"][\"outlet_info\"]]\n",
    "    \n",
    "    return outlets_info\n",
    "\n",
    "\n",
    "def get_items_info(conf):\n",
    "    \n",
    "    \"\"\"\n",
    "    Returns item information\n",
    "    \n",
    "    Parameters:\n",
    "          conf (dict): Contains configurations\n",
    "    \n",
    "    Returns:\n",
    "          pandas DataFrame: item_info\n",
    "    \"\"\"\n",
    "    \n",
    "    item_info = read_csv(conf[\"paths\"][\"item_info_path\"])\n",
    "    item_info = item_info[conf[\"required_columns\"][\"item_info\"]]\n",
    "    \n",
    "    return item_info\n",
    "\n",
    "\n",
    "def get_trans_info(conf):\n",
    "    \n",
    "    \"\"\"\n",
    "    Returns transaction information\n",
    "    \n",
    "    Parameters:\n",
    "          conf (dict): Contains configurations\n",
    "    \n",
    "    Returns:\n",
    "          pandas DataFrame: trans_info\n",
    "    \"\"\"\n",
    "    \n",
    "    trans_info = read_csv(conf[\"paths\"][\"trans_info_path\"])\n",
    "    \n",
    "    return trans_info\n"
   ]
  }
 ],
 "metadata": {
  "kernelspec": {
   "display_name": "Python 3",
   "language": "python",
   "name": "python3"
  },
  "language_info": {
   "codemirror_mode": {
    "name": "ipython",
    "version": 3
   },
   "file_extension": ".py",
   "mimetype": "text/x-python",
   "name": "python",
   "nbconvert_exporter": "python",
   "pygments_lexer": "ipython3",
   "version": "3.8.3"
  }
 },
 "nbformat": 4,
 "nbformat_minor": 5
}
