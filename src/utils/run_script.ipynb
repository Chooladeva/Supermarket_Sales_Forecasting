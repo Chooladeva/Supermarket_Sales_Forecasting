{
 "cells": [
  {
   "cell_type": "code",
   "execution_count": 1,
   "id": "f1b5b37f",
   "metadata": {},
   "outputs": [],
   "source": [
    "%run \"C:/Users/HP/Documents/NIBM/Year 3/Machine Learning/Case Study 1/My_project/src/utils/utilities.ipynb\" \n",
    "%run \"C:/Users/HP/Documents/NIBM/Year 3/Machine Learning/Case Study 1/My_project/src/utils/datasources_utils.ipynb\" \n",
    "%run \"C:/Users/HP/Documents/NIBM/Year 3/Machine Learning/Case Study 1/My_project/src/utils/datasources_scripts.ipynb\"\n",
    "%run \"C:/Users/HP/Documents/NIBM/Year 3/Machine Learning/Case Study 1/My_project/conf/conf_script.ipynb\""
   ]
  }
 ],
 "metadata": {
  "kernelspec": {
   "display_name": "Python 3 (ipykernel)",
   "language": "python",
   "name": "python3"
  },
  "language_info": {
   "codemirror_mode": {
    "name": "ipython",
    "version": 3
   },
   "file_extension": ".py",
   "mimetype": "text/x-python",
   "name": "python",
   "nbconvert_exporter": "python",
   "pygments_lexer": "ipython3",
   "version": "3.12.7"
  }
 },
 "nbformat": 4,
 "nbformat_minor": 5
}
