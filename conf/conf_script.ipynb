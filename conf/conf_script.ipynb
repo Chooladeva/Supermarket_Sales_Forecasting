{
 "cells": [
  {
   "cell_type": "code",
   "execution_count": 1,
   "id": "0120ce56",
   "metadata": {},
   "outputs": [],
   "source": [
    "def get_conf():\n",
    "    \n",
    "    conf = {\n",
    "        \"paths\": {\n",
    "            \"item_info_path\" : \"C:/Users/HP/Documents/NIBM/Year 3/Machine Learning/Case Study 1/My_project/data/item_info.csv\",\n",
    "            \"outlet_info_path\" : \"C:/Users/HP/Documents/NIBM/Year 3/Machine Learning/Case Study 1/My_project/data/outlet_info.csv\",\n",
    "            \"trans_info_path\" :  \"C:/Users/HP/Documents/NIBM/Year 3/Machine Learning/Case Study 1/My_project/data/transactions_info.csv\",\n",
    "        },\n",
    "        \"dates\": {\n",
    "            \"start_date\": \"2022-01-21\",\n",
    "            \"end_date\": \"2022-10-13\"\n",
    "        },\n",
    "        \"required_columns\":{\n",
    "            \"categorical_columns\": [\"outlet_code\", \"item_category\", \"outlet_profile_category\", \"outlet_area\",\n",
    "                                    \"outlet_parking_lots\", \"outlet_cluster_category\"],                \n",
    "            \"outlet_info\": [\"outlet_code\", \"outlet_area\", \"outlet_parking_lots\", \n",
    "                           \"outlet_profile_category\", \"outlet_cluster_category\"],\n",
    "            \"item_info\": [\"item_code\", \"item_category\", \"item_sub_department\", \"item_department\"],\n",
    "            \"departments\": [\"Grocery\", \"Chilled\", \"Beverages\"],\n",
    "            \"stores\": [\"A\", \"B\", \"C\", \"D\", \"E\"]\n",
    "        },\n",
    "        \"params\":{\n",
    "            \"no_categories\": 5\n",
    "        },\n",
    "        \"train_test_split\": {\n",
    "            \"cutoff\": 0.8\n",
    "        }\n",
    "    }\n",
    "    \n",
    "    return conf"
   ]
  }
 ],
 "metadata": {
  "kernelspec": {
   "display_name": "Python 3",
   "language": "python",
   "name": "python3"
  },
  "language_info": {
   "codemirror_mode": {
    "name": "ipython",
    "version": 3
   },
   "file_extension": ".py",
   "mimetype": "text/x-python",
   "name": "python",
   "nbconvert_exporter": "python",
   "pygments_lexer": "ipython3",
   "version": "3.8.3"
  }
 },
 "nbformat": 4,
 "nbformat_minor": 5
}
