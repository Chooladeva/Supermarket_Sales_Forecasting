{
 "cells": [
  {
   "cell_type": "code",
   "execution_count": 1,
   "id": "c2b0dd61-7dab-43b9-ab54-f23e6f38fcda",
   "metadata": {},
   "outputs": [],
   "source": [
    "%run ../src/model/run_script.ipynb"
   ]
  },
  {
   "cell_type": "code",
   "execution_count": 2,
   "id": "88f7d7b5",
   "metadata": {},
   "outputs": [],
   "source": [
    "conf = get_conf()\n",
    "\n",
    "trans = get_datasources(conf)[\"trans_info\"]\n",
    "item = get_datasources(conf)[\"item_info\"]\n",
    "stores = get_datasources(conf)[\"outlets_info\"]\n",
    "\n",
    "trans = pre_process_transaction_info(trans)\n",
    "item = pre_process_item_info(item)\n",
    "store = pre_process_stores_info(stores)\n",
    "no_categories = conf['params'][\"no_categories\"]\n",
    "\n",
    "master_table=create_master_table(trans,item,no_categories,store)"
   ]
  },
  {
   "cell_type": "code",
   "execution_count": 3,
   "id": "266b3844-a75e-4ee4-aa4a-c09f096f1a64",
   "metadata": {},
   "outputs": [],
   "source": [
    "df = pd.DataFrame(master_table)\n",
    "df.to_csv('master_table.csv', index=False)"
   ]
  }
 ],
 "metadata": {
  "kernelspec": {
   "display_name": "Python 3 (ipykernel)",
   "language": "python",
   "name": "python3"
  },
  "language_info": {
   "codemirror_mode": {
    "name": "ipython",
    "version": 3
   },
   "file_extension": ".py",
   "mimetype": "text/x-python",
   "name": "python",
   "nbconvert_exporter": "python",
   "pygments_lexer": "ipython3",
   "version": "3.12.7"
  }
 },
 "nbformat": 4,
 "nbformat_minor": 5
}
