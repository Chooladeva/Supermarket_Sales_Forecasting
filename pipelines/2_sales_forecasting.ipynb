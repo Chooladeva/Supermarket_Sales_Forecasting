{
 "cells": [
  {
   "cell_type": "code",
   "execution_count": 1,
   "id": "022086c5",
   "metadata": {},
   "outputs": [],
   "source": [
    "%run ../src/model/run_script.ipynb"
   ]
  },
  {
   "cell_type": "code",
   "execution_count": 2,
   "id": "380761a0",
   "metadata": {},
   "outputs": [],
   "source": [
    "conf = get_conf()\n",
    "\n",
    "trans = get_datasources(conf)[\"trans_info\"]\n",
    "item = get_datasources(conf)[\"item_info\"]\n",
    "stores = get_datasources(conf)[\"outlets_info\"]\n",
    "\n",
    "trans = pre_process_transaction_info(trans)\n",
    "item = pre_process_item_info(item)\n",
    "store = pre_process_stores_info(stores)\n",
    "no_categories = conf['params'][\"no_categories\"]\n",
    "cutoff = conf['train_test_split'][\"cutoff\"]\n",
    "\n",
    "# Create Master table\n",
    "master_table=create_master_table(trans,item,no_categories,store)\n",
    "\n",
    "#Encode the Categorical columns\n",
    "data = one_hot_encode_columns(master_table)\n",
    "\n",
    "# Splitting the data into training and test sets\n",
    "X_train, X_test, y_train, y_test = create_train_test_split(data, cutoff)\n",
    "\n",
    "# Load the saved model\n",
    "best_model_grid = joblib.load('best_model_grid.pkl')\n",
    "# Load the saved predictions\n",
    "y_pred = joblib.load('y_pred.pkl')\n",
    "\n",
    "# Select feature names with non-zero importance\n",
    "selected_features, selected_importances = selected_features(best_model_grid, X_train.columns)\n",
    "\n",
    "# Calculating the model performance using accuracy metrics\n",
    "rmsle, mae, r2, adj_r2, total_mape, avg_mape = calculate_model_accuracy(y_test, y_pred, selected_features)"
   ]
  },
  {
   "cell_type": "code",
   "execution_count": 3,
   "id": "141a93e4",
   "metadata": {},
   "outputs": [
    {
     "name": "stdout",
     "output_type": "stream",
     "text": [
      "\n",
      "Root Mean Squared Squared Logarithmic Error (RMSLE): 1.806\n",
      "Mean Absolute Error (MAE): 84.705\n",
      "R-squared (R2) Score: 0.926\n",
      "Adjusted R-squared: 0.922\n",
      "Total Mean Absolute Percentage Error (MAPE): 12.719\n",
      "Average Mean Absolute Percentage Error (MAPE): 24.393\n"
     ]
    }
   ],
   "source": [
    "print(\"\\nRoot Mean Squared Squared Logarithmic Error (RMSLE):\", round(rmsle, 3))\n",
    "print(\"Mean Absolute Error (MAE):\", round(mae, 3))\n",
    "print(\"R-squared (R2) Score:\", round(r2, 3))\n",
    "print(\"Adjusted R-squared:\", round(adj_r2, 3))\n",
    "print(\"Total Mean Absolute Percentage Error (MAPE):\", round(total_mape, 3))\n",
    "print(\"Average Mean Absolute Percentage Error (MAPE):\", round(avg_mape, 3))"
   ]
  }
 ],
 "metadata": {
  "kernelspec": {
   "display_name": "Python 3 (ipykernel)",
   "language": "python",
   "name": "python3"
  },
  "language_info": {
   "codemirror_mode": {
    "name": "ipython",
    "version": 3
   },
   "file_extension": ".py",
   "mimetype": "text/x-python",
   "name": "python",
   "nbconvert_exporter": "python",
   "pygments_lexer": "ipython3",
   "version": "3.12.7"
  }
 },
 "nbformat": 4,
 "nbformat_minor": 5
}
